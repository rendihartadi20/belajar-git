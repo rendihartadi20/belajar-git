{
  "nbformat": 4,
  "nbformat_minor": 0,
  "metadata": {
    "kernelspec": {
      "display_name": "Python 3",
      "language": "python",
      "name": "python3"
    },
    "language_info": {
      "codemirror_mode": {
        "name": "ipython",
        "version": 3
      },
      "file_extension": ".py",
      "mimetype": "text/x-python",
      "name": "python",
      "nbconvert_exporter": "python",
      "pygments_lexer": "ipython3",
      "version": "3.8.3"
    },
    "colab": {
      "provenance": [],
      "include_colab_link": true
    }
  },
  "cells": [
    {
      "cell_type": "markdown",
      "metadata": {
        "id": "view-in-github",
        "colab_type": "text"
      },
      "source": [
        "<a href=\"https://colab.research.google.com/github/rendihartadi20/belajar-git/blob/master/HeapSort1.ipynb\" target=\"_parent\"><img src=\"https://colab.research.google.com/assets/colab-badge.svg\" alt=\"Open In Colab\"/></a>"
      ]
    },
    {
      "cell_type": "code",
      "metadata": {
        "id": "B7mU6XVFeMGy"
      },
      "source": [
        "# Misalkan n adalah ukuran heap\n",
        " \n",
        "def heapify(arr, n, i):\n",
        "    largest = i  \n",
        "    l = 2 * i + 1     # indeks left childnya = 2*i + 1\n",
        "    r = 2 * i + 2     # indeks right childnya = 2*i + 2\n",
        " \n",
        "    # Untuk melihat apakah left child dari rootnya ada dan lebih besar dari root\n",
        "    if l < n and arr[largest] < arr[l]:\n",
        "        largest = l\n",
        " \n",
        "    # Untuk melihat apakah right child dari rootnya ada dan lebih besar dari root\n",
        "    if r < n and arr[largest] < arr[r]:\n",
        "        largest = r\n",
        " \n",
        "    # Mengubah akarnya jika diperkukan (nilai rootnya lebih kecil dari childnya)\n",
        "    if largest != i:\n",
        "        arr[i], arr[largest] = arr[largest], arr[i]  # Tukar\n",
        " \n",
        "        # Heapify lagi root nya (karena nilai rootnya lebih kecil)\n",
        "        heapify(arr, n, largest)\n",
        "\n",
        "# Fungsi untuk melakukan Heapsort\n",
        "def heapSort(arr):\n",
        "    n = len(arr)\n",
        " \n",
        "    # Membuat maxheap\n",
        "    for i in range(n//2 - 1, -1, -1):\n",
        "        heapify(arr, n, i)\n",
        " \n",
        "    # Satu demi satu elemen diekstrak menjadi terurut\n",
        "    for i in range(n-1, 0, -1):\n",
        "        arr[i], arr[0] = arr[0], arr[i]  # Tukar\n",
        "        heapify(arr, i, 0)"
      ],
      "execution_count": 1,
      "outputs": []
    },
    {
      "cell_type": "code",
      "metadata": {
        "colab": {
          "base_uri": "https://localhost:8080/"
        },
        "id": "EpztOuQbFD7K",
        "outputId": "84aed5c1-e6fd-44d6-db02-99f5759f3b07"
      },
      "source": [
        "x = [90,8,23,64,58,97,1,45,67]\n",
        "heapSort(x)\n",
        "print(x)"
      ],
      "execution_count": 2,
      "outputs": [
        {
          "output_type": "stream",
          "name": "stdout",
          "text": [
            "[1, 8, 23, 45, 58, 64, 67, 90, 97]\n"
          ]
        }
      ]
    },
    {
      "cell_type": "code",
      "source": [],
      "metadata": {
        "id": "LZBXiqmIu51z"
      },
      "execution_count": null,
      "outputs": []
    }
  ]
}